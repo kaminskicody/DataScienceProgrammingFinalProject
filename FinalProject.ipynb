{
 "cells": [
  {
   "cell_type": "markdown",
   "id": "54ae5655",
   "metadata": {},
   "source": [
    "#### Cody Kaminski\n",
    "#### 12/14/2022\n",
    "#### Final Project\n",
    "#### The purpose of this is to answer questions about the data"
   ]
  },
  {
   "cell_type": "code",
   "execution_count": 205,
   "id": "9a17e442",
   "metadata": {},
   "outputs": [],
   "source": [
    "import pandas as pd\n",
    "from matplotlib import pyplot as plt\n",
    "from matplotlib import ticker as mtick\n",
    "import seaborn as sns"
   ]
  },
  {
   "cell_type": "code",
   "execution_count": 206,
   "id": "f4fa6744",
   "metadata": {},
   "outputs": [],
   "source": [
    "heartDataFrame = pd.read_csv(\"heart_2020_cleaned.csv\")"
   ]
  },
  {
   "cell_type": "code",
   "execution_count": 207,
   "id": "a1610c3d",
   "metadata": {
    "scrolled": true
   },
   "outputs": [
    {
     "data": {
      "text/html": [
       "<div>\n",
       "<style scoped>\n",
       "    .dataframe tbody tr th:only-of-type {\n",
       "        vertical-align: middle;\n",
       "    }\n",
       "\n",
       "    .dataframe tbody tr th {\n",
       "        vertical-align: top;\n",
       "    }\n",
       "\n",
       "    .dataframe thead th {\n",
       "        text-align: right;\n",
       "    }\n",
       "</style>\n",
       "<table border=\"1\" class=\"dataframe\">\n",
       "  <thead>\n",
       "    <tr style=\"text-align: right;\">\n",
       "      <th></th>\n",
       "      <th>HeartDisease</th>\n",
       "      <th>BMI</th>\n",
       "      <th>Smoking</th>\n",
       "      <th>AlcoholDrinking</th>\n",
       "      <th>Stroke</th>\n",
       "      <th>PhysicalHealth</th>\n",
       "      <th>MentalHealth</th>\n",
       "      <th>DiffWalking</th>\n",
       "      <th>Sex</th>\n",
       "      <th>AgeCategory</th>\n",
       "      <th>Race</th>\n",
       "      <th>Diabetic</th>\n",
       "      <th>PhysicalActivity</th>\n",
       "      <th>GenHealth</th>\n",
       "      <th>SleepTime</th>\n",
       "      <th>Asthma</th>\n",
       "      <th>KidneyDisease</th>\n",
       "      <th>SkinCancer</th>\n",
       "    </tr>\n",
       "  </thead>\n",
       "  <tbody>\n",
       "    <tr>\n",
       "      <th>0</th>\n",
       "      <td>No</td>\n",
       "      <td>16.60</td>\n",
       "      <td>Yes</td>\n",
       "      <td>No</td>\n",
       "      <td>No</td>\n",
       "      <td>3.0</td>\n",
       "      <td>30.0</td>\n",
       "      <td>No</td>\n",
       "      <td>Female</td>\n",
       "      <td>55-59</td>\n",
       "      <td>White</td>\n",
       "      <td>Yes</td>\n",
       "      <td>Yes</td>\n",
       "      <td>Very good</td>\n",
       "      <td>5.0</td>\n",
       "      <td>Yes</td>\n",
       "      <td>No</td>\n",
       "      <td>Yes</td>\n",
       "    </tr>\n",
       "    <tr>\n",
       "      <th>1</th>\n",
       "      <td>No</td>\n",
       "      <td>20.34</td>\n",
       "      <td>No</td>\n",
       "      <td>No</td>\n",
       "      <td>Yes</td>\n",
       "      <td>0.0</td>\n",
       "      <td>0.0</td>\n",
       "      <td>No</td>\n",
       "      <td>Female</td>\n",
       "      <td>80 or older</td>\n",
       "      <td>White</td>\n",
       "      <td>No</td>\n",
       "      <td>Yes</td>\n",
       "      <td>Very good</td>\n",
       "      <td>7.0</td>\n",
       "      <td>No</td>\n",
       "      <td>No</td>\n",
       "      <td>No</td>\n",
       "    </tr>\n",
       "    <tr>\n",
       "      <th>2</th>\n",
       "      <td>No</td>\n",
       "      <td>26.58</td>\n",
       "      <td>Yes</td>\n",
       "      <td>No</td>\n",
       "      <td>No</td>\n",
       "      <td>20.0</td>\n",
       "      <td>30.0</td>\n",
       "      <td>No</td>\n",
       "      <td>Male</td>\n",
       "      <td>65-69</td>\n",
       "      <td>White</td>\n",
       "      <td>Yes</td>\n",
       "      <td>Yes</td>\n",
       "      <td>Fair</td>\n",
       "      <td>8.0</td>\n",
       "      <td>Yes</td>\n",
       "      <td>No</td>\n",
       "      <td>No</td>\n",
       "    </tr>\n",
       "    <tr>\n",
       "      <th>3</th>\n",
       "      <td>No</td>\n",
       "      <td>24.21</td>\n",
       "      <td>No</td>\n",
       "      <td>No</td>\n",
       "      <td>No</td>\n",
       "      <td>0.0</td>\n",
       "      <td>0.0</td>\n",
       "      <td>No</td>\n",
       "      <td>Female</td>\n",
       "      <td>75-79</td>\n",
       "      <td>White</td>\n",
       "      <td>No</td>\n",
       "      <td>No</td>\n",
       "      <td>Good</td>\n",
       "      <td>6.0</td>\n",
       "      <td>No</td>\n",
       "      <td>No</td>\n",
       "      <td>Yes</td>\n",
       "    </tr>\n",
       "    <tr>\n",
       "      <th>4</th>\n",
       "      <td>No</td>\n",
       "      <td>23.71</td>\n",
       "      <td>No</td>\n",
       "      <td>No</td>\n",
       "      <td>No</td>\n",
       "      <td>28.0</td>\n",
       "      <td>0.0</td>\n",
       "      <td>Yes</td>\n",
       "      <td>Female</td>\n",
       "      <td>40-44</td>\n",
       "      <td>White</td>\n",
       "      <td>No</td>\n",
       "      <td>Yes</td>\n",
       "      <td>Very good</td>\n",
       "      <td>8.0</td>\n",
       "      <td>No</td>\n",
       "      <td>No</td>\n",
       "      <td>No</td>\n",
       "    </tr>\n",
       "    <tr>\n",
       "      <th>...</th>\n",
       "      <td>...</td>\n",
       "      <td>...</td>\n",
       "      <td>...</td>\n",
       "      <td>...</td>\n",
       "      <td>...</td>\n",
       "      <td>...</td>\n",
       "      <td>...</td>\n",
       "      <td>...</td>\n",
       "      <td>...</td>\n",
       "      <td>...</td>\n",
       "      <td>...</td>\n",
       "      <td>...</td>\n",
       "      <td>...</td>\n",
       "      <td>...</td>\n",
       "      <td>...</td>\n",
       "      <td>...</td>\n",
       "      <td>...</td>\n",
       "      <td>...</td>\n",
       "    </tr>\n",
       "    <tr>\n",
       "      <th>319790</th>\n",
       "      <td>Yes</td>\n",
       "      <td>27.41</td>\n",
       "      <td>Yes</td>\n",
       "      <td>No</td>\n",
       "      <td>No</td>\n",
       "      <td>7.0</td>\n",
       "      <td>0.0</td>\n",
       "      <td>Yes</td>\n",
       "      <td>Male</td>\n",
       "      <td>60-64</td>\n",
       "      <td>Hispanic</td>\n",
       "      <td>Yes</td>\n",
       "      <td>No</td>\n",
       "      <td>Fair</td>\n",
       "      <td>6.0</td>\n",
       "      <td>Yes</td>\n",
       "      <td>No</td>\n",
       "      <td>No</td>\n",
       "    </tr>\n",
       "    <tr>\n",
       "      <th>319791</th>\n",
       "      <td>No</td>\n",
       "      <td>29.84</td>\n",
       "      <td>Yes</td>\n",
       "      <td>No</td>\n",
       "      <td>No</td>\n",
       "      <td>0.0</td>\n",
       "      <td>0.0</td>\n",
       "      <td>No</td>\n",
       "      <td>Male</td>\n",
       "      <td>35-39</td>\n",
       "      <td>Hispanic</td>\n",
       "      <td>No</td>\n",
       "      <td>Yes</td>\n",
       "      <td>Very good</td>\n",
       "      <td>5.0</td>\n",
       "      <td>Yes</td>\n",
       "      <td>No</td>\n",
       "      <td>No</td>\n",
       "    </tr>\n",
       "    <tr>\n",
       "      <th>319792</th>\n",
       "      <td>No</td>\n",
       "      <td>24.24</td>\n",
       "      <td>No</td>\n",
       "      <td>No</td>\n",
       "      <td>No</td>\n",
       "      <td>0.0</td>\n",
       "      <td>0.0</td>\n",
       "      <td>No</td>\n",
       "      <td>Female</td>\n",
       "      <td>45-49</td>\n",
       "      <td>Hispanic</td>\n",
       "      <td>No</td>\n",
       "      <td>Yes</td>\n",
       "      <td>Good</td>\n",
       "      <td>6.0</td>\n",
       "      <td>No</td>\n",
       "      <td>No</td>\n",
       "      <td>No</td>\n",
       "    </tr>\n",
       "    <tr>\n",
       "      <th>319793</th>\n",
       "      <td>No</td>\n",
       "      <td>32.81</td>\n",
       "      <td>No</td>\n",
       "      <td>No</td>\n",
       "      <td>No</td>\n",
       "      <td>0.0</td>\n",
       "      <td>0.0</td>\n",
       "      <td>No</td>\n",
       "      <td>Female</td>\n",
       "      <td>25-29</td>\n",
       "      <td>Hispanic</td>\n",
       "      <td>No</td>\n",
       "      <td>No</td>\n",
       "      <td>Good</td>\n",
       "      <td>12.0</td>\n",
       "      <td>No</td>\n",
       "      <td>No</td>\n",
       "      <td>No</td>\n",
       "    </tr>\n",
       "    <tr>\n",
       "      <th>319794</th>\n",
       "      <td>No</td>\n",
       "      <td>46.56</td>\n",
       "      <td>No</td>\n",
       "      <td>No</td>\n",
       "      <td>No</td>\n",
       "      <td>0.0</td>\n",
       "      <td>0.0</td>\n",
       "      <td>No</td>\n",
       "      <td>Female</td>\n",
       "      <td>80 or older</td>\n",
       "      <td>Hispanic</td>\n",
       "      <td>No</td>\n",
       "      <td>Yes</td>\n",
       "      <td>Good</td>\n",
       "      <td>8.0</td>\n",
       "      <td>No</td>\n",
       "      <td>No</td>\n",
       "      <td>No</td>\n",
       "    </tr>\n",
       "  </tbody>\n",
       "</table>\n",
       "<p>319795 rows × 18 columns</p>\n",
       "</div>"
      ],
      "text/plain": [
       "       HeartDisease    BMI Smoking AlcoholDrinking Stroke  PhysicalHealth  \\\n",
       "0                No  16.60     Yes              No     No             3.0   \n",
       "1                No  20.34      No              No    Yes             0.0   \n",
       "2                No  26.58     Yes              No     No            20.0   \n",
       "3                No  24.21      No              No     No             0.0   \n",
       "4                No  23.71      No              No     No            28.0   \n",
       "...             ...    ...     ...             ...    ...             ...   \n",
       "319790          Yes  27.41     Yes              No     No             7.0   \n",
       "319791           No  29.84     Yes              No     No             0.0   \n",
       "319792           No  24.24      No              No     No             0.0   \n",
       "319793           No  32.81      No              No     No             0.0   \n",
       "319794           No  46.56      No              No     No             0.0   \n",
       "\n",
       "        MentalHealth DiffWalking     Sex  AgeCategory      Race Diabetic  \\\n",
       "0               30.0          No  Female        55-59     White      Yes   \n",
       "1                0.0          No  Female  80 or older     White       No   \n",
       "2               30.0          No    Male        65-69     White      Yes   \n",
       "3                0.0          No  Female        75-79     White       No   \n",
       "4                0.0         Yes  Female        40-44     White       No   \n",
       "...              ...         ...     ...          ...       ...      ...   \n",
       "319790           0.0         Yes    Male        60-64  Hispanic      Yes   \n",
       "319791           0.0          No    Male        35-39  Hispanic       No   \n",
       "319792           0.0          No  Female        45-49  Hispanic       No   \n",
       "319793           0.0          No  Female        25-29  Hispanic       No   \n",
       "319794           0.0          No  Female  80 or older  Hispanic       No   \n",
       "\n",
       "       PhysicalActivity  GenHealth  SleepTime Asthma KidneyDisease SkinCancer  \n",
       "0                   Yes  Very good        5.0    Yes            No        Yes  \n",
       "1                   Yes  Very good        7.0     No            No         No  \n",
       "2                   Yes       Fair        8.0    Yes            No         No  \n",
       "3                    No       Good        6.0     No            No        Yes  \n",
       "4                   Yes  Very good        8.0     No            No         No  \n",
       "...                 ...        ...        ...    ...           ...        ...  \n",
       "319790               No       Fair        6.0    Yes            No         No  \n",
       "319791              Yes  Very good        5.0    Yes            No         No  \n",
       "319792              Yes       Good        6.0     No            No         No  \n",
       "319793               No       Good       12.0     No            No         No  \n",
       "319794              Yes       Good        8.0     No            No         No  \n",
       "\n",
       "[319795 rows x 18 columns]"
      ]
     },
     "execution_count": 207,
     "metadata": {},
     "output_type": "execute_result"
    }
   ],
   "source": [
    "heartDataFrame"
   ]
  },
  {
   "cell_type": "markdown",
   "id": "2af1c1b6",
   "metadata": {},
   "source": [
    "#### Which age groups suffer heart disease the most?"
   ]
  },
  {
   "cell_type": "code",
   "execution_count": 209,
   "id": "9dc92c1d",
   "metadata": {},
   "outputs": [],
   "source": [
    "ageCategories = set()\n",
    "\n",
    "for key, value in heartDataFrame.AgeCategory.iteritems():\n",
    "    if str(value) not in ageCategories:\n",
    "        ageCategories.add(str(value))\n",
    "        \n",
    "ageCategoryDataFrame = pd.DataFrame(columns=[\"AgeCategory\", \"PercentageYes\"])\n",
    "\n",
    "for ageCategory in ageCategories:\n",
    "    currentDataFrame = heartDataFrame[heartDataFrame[\"AgeCategory\"] == ageCategory]\n",
    "    \n",
    "    yesCount = len(currentDataFrame[currentDataFrame[\"HeartDisease\"] == \"Yes\"])\n",
    "    noCount = len(currentDataFrame[currentDataFrame[\"HeartDisease\"] == \"No\"])\n",
    "    totalCount = yesCount+noCount\n",
    "    percentageYes = yesCount/totalCount\n",
    "    \n",
    "    ageCategoryDataFrame.loc[len(ageCategoryDataFrame)] = [ageCategory, percentageYes]\n",
    "    \n",
    "ageCategoryDataFrame = ageCategoryDataFrame.sort_values(by = \"AgeCategory\").reset_index(drop = True)"
   ]
  },
  {
   "cell_type": "code",
   "execution_count": 210,
   "id": "3d7166a0",
   "metadata": {},
   "outputs": [
    {
     "data": {
      "text/html": [
       "<div>\n",
       "<style scoped>\n",
       "    .dataframe tbody tr th:only-of-type {\n",
       "        vertical-align: middle;\n",
       "    }\n",
       "\n",
       "    .dataframe tbody tr th {\n",
       "        vertical-align: top;\n",
       "    }\n",
       "\n",
       "    .dataframe thead th {\n",
       "        text-align: right;\n",
       "    }\n",
       "</style>\n",
       "<table border=\"1\" class=\"dataframe\">\n",
       "  <thead>\n",
       "    <tr style=\"text-align: right;\">\n",
       "      <th></th>\n",
       "      <th>AgeCategory</th>\n",
       "      <th>PercentageYes</th>\n",
       "    </tr>\n",
       "  </thead>\n",
       "  <tbody>\n",
       "    <tr>\n",
       "      <th>0</th>\n",
       "      <td>18-24</td>\n",
       "      <td>0.006172</td>\n",
       "    </tr>\n",
       "    <tr>\n",
       "      <th>1</th>\n",
       "      <td>25-29</td>\n",
       "      <td>0.007844</td>\n",
       "    </tr>\n",
       "    <tr>\n",
       "      <th>2</th>\n",
       "      <td>30-34</td>\n",
       "      <td>0.012051</td>\n",
       "    </tr>\n",
       "    <tr>\n",
       "      <th>3</th>\n",
       "      <td>35-39</td>\n",
       "      <td>0.014404</td>\n",
       "    </tr>\n",
       "    <tr>\n",
       "      <th>4</th>\n",
       "      <td>40-44</td>\n",
       "      <td>0.023136</td>\n",
       "    </tr>\n",
       "    <tr>\n",
       "      <th>5</th>\n",
       "      <td>45-49</td>\n",
       "      <td>0.034143</td>\n",
       "    </tr>\n",
       "    <tr>\n",
       "      <th>6</th>\n",
       "      <td>50-54</td>\n",
       "      <td>0.054487</td>\n",
       "    </tr>\n",
       "    <tr>\n",
       "      <th>7</th>\n",
       "      <td>55-59</td>\n",
       "      <td>0.073999</td>\n",
       "    </tr>\n",
       "    <tr>\n",
       "      <th>8</th>\n",
       "      <td>60-64</td>\n",
       "      <td>0.098765</td>\n",
       "    </tr>\n",
       "    <tr>\n",
       "      <th>9</th>\n",
       "      <td>65-69</td>\n",
       "      <td>0.120084</td>\n",
       "    </tr>\n",
       "    <tr>\n",
       "      <th>10</th>\n",
       "      <td>70-74</td>\n",
       "      <td>0.156028</td>\n",
       "    </tr>\n",
       "    <tr>\n",
       "      <th>11</th>\n",
       "      <td>75-79</td>\n",
       "      <td>0.188483</td>\n",
       "    </tr>\n",
       "    <tr>\n",
       "      <th>12</th>\n",
       "      <td>80 or older</td>\n",
       "      <td>0.225603</td>\n",
       "    </tr>\n",
       "  </tbody>\n",
       "</table>\n",
       "</div>"
      ],
      "text/plain": [
       "    AgeCategory  PercentageYes\n",
       "0         18-24       0.006172\n",
       "1         25-29       0.007844\n",
       "2         30-34       0.012051\n",
       "3         35-39       0.014404\n",
       "4         40-44       0.023136\n",
       "5         45-49       0.034143\n",
       "6         50-54       0.054487\n",
       "7         55-59       0.073999\n",
       "8         60-64       0.098765\n",
       "9         65-69       0.120084\n",
       "10        70-74       0.156028\n",
       "11        75-79       0.188483\n",
       "12  80 or older       0.225603"
      ]
     },
     "execution_count": 210,
     "metadata": {},
     "output_type": "execute_result"
    }
   ],
   "source": [
    "ageCategoryDataFrame"
   ]
  },
  {
   "cell_type": "code",
   "execution_count": 213,
   "id": "fc084f21",
   "metadata": {},
   "outputs": [
    {
     "data": {
      "image/png": "[encoded data removed]",
      "text/plain": [
       "<Figure size 432x288 with 1 Axes>"
      ]
     },
     "metadata": {
      "needs_background": "light"
     },
     "output_type": "display_data"
    }
   ],
   "source": [
    "ageCategoryPlot = sns.barplot(data = ageCategoryDataFrame, x = \"PercentageYes\", y = \"AgeCategory\", palette = [\"red\" if value == \"80 or older\" else \"gray\" for value in ageCategoryDataFrame.AgeCategory])\n",
    "\n",
    "ageCategoryPlot.set_xlabel(\"Percentage affected with heart disease\")\n",
    "ageCategoryPlot.set_ylabel(\"Age Category\")\n",
    "ageCategoryPlot.set_title(\"The percentage of the population with heart disease increases with age\")\n",
    "ageCategoryPlot.xaxis.set_major_formatter(mtick.PercentFormatter(1, 0))"
   ]
  },
  {
   "cell_type": "markdown",
   "id": "09c45b8c",
   "metadata": {},
   "source": [
    "#### People in the age group of 80 or older suffer heart disease more often than any other age group at a rate of over 20% of people in this age group suffering from heart disease."
   ]
  },
  {
   "cell_type": "markdown",
   "id": "ff8c61c1",
   "metadata": {},
   "source": [
    "#### What percentage of smokers suffer heart disease compared to the percentage that don't?"
   ]
  },
  {
   "cell_type": "code",
   "execution_count": 214,
   "id": "dfc382bd",
   "metadata": {},
   "outputs": [],
   "source": [
    "smokingDataFrame = pd.DataFrame(columns=[\"Smoking\", \"PercentageHeartDisease\"])\n",
    "\n",
    "for response in [\"Yes\", \"No\"]:\n",
    "    currentDataFrame = heartDataFrame[heartDataFrame[\"Smoking\"] == response]\n",
    "\n",
    "    yesCount = len(currentDataFrame[currentDataFrame[\"HeartDisease\"] == \"Yes\"])\n",
    "    noCount = len(currentDataFrame[currentDataFrame[\"HeartDisease\"] == \"No\"])\n",
    "    totalCount = yesCount+noCount\n",
    "    percentageYes = yesCount/totalCount\n",
    "    \n",
    "    smokingDataFrame.loc[len(smokingDataFrame)] = [response, percentageYes]"
   ]
  },
  {
   "cell_type": "code",
   "execution_count": 215,
   "id": "40a1f5fa",
   "metadata": {},
   "outputs": [
    {
     "data": {
      "text/html": [
       "<div>\n",
       "<style scoped>\n",
       "    .dataframe tbody tr th:only-of-type {\n",
       "        vertical-align: middle;\n",
       "    }\n",
       "\n",
       "    .dataframe tbody tr th {\n",
       "        vertical-align: top;\n",
       "    }\n",
       "\n",
       "    .dataframe thead th {\n",
       "        text-align: right;\n",
       "    }\n",
       "</style>\n",
       "<table border=\"1\" class=\"dataframe\">\n",
       "  <thead>\n",
       "    <tr style=\"text-align: right;\">\n",
       "      <th></th>\n",
       "      <th>Smoking</th>\n",
       "      <th>PercentageHeartDisease</th>\n",
       "    </tr>\n",
       "  </thead>\n",
       "  <tbody>\n",
       "    <tr>\n",
       "      <th>0</th>\n",
       "      <td>Yes</td>\n",
       "      <td>0.121577</td>\n",
       "    </tr>\n",
       "    <tr>\n",
       "      <th>1</th>\n",
       "      <td>No</td>\n",
       "      <td>0.060334</td>\n",
       "    </tr>\n",
       "  </tbody>\n",
       "</table>\n",
       "</div>"
      ],
      "text/plain": [
       "  Smoking  PercentageHeartDisease\n",
       "0     Yes                0.121577\n",
       "1      No                0.060334"
      ]
     },
     "execution_count": 215,
     "metadata": {},
     "output_type": "execute_result"
    }
   ],
   "source": [
    "smokingDataFrame"
   ]
  },
  {
   "cell_type": "code",
   "execution_count": 216,
   "id": "2b579512",
   "metadata": {},
   "outputs": [
    {
     "data": {
      "image/png": "[encoded data removed]",
      "text/plain": [
       "<Figure size 432x288 with 1 Axes>"
      ]
     },
     "metadata": {
      "needs_background": "light"
     },
     "output_type": "display_data"
    }
   ],
   "source": [
    "smokingPlot = sns.barplot(data = smokingDataFrame, x = \"Smoking\", y = \"PercentageHeartDisease\", palette = [\"red\" if value == \"Yes\" else \"green\" for value in smokingDataFrame.Smoking])\n",
    "\n",
    "smokingPlot.set_xlabel(\"Smoker\")\n",
    "smokingPlot.set_ylabel(\"Percentage affected with heart disease\")\n",
    "smokingPlot.set_title(\"The percentage of the population who smokes have nearly double the\\nchance of having heart disease\")\n",
    "smokingPlot.yaxis.set_major_formatter(mtick.PercentFormatter(1, 0))"
   ]
  },
  {
   "cell_type": "markdown",
   "id": "0700b3ec",
   "metadata": {},
   "source": [
    "#### Over 12% of smokers suffer from heart disease while just over 6% of those who don't smoke suffer from heart disease."
   ]
  },
  {
   "cell_type": "markdown",
   "id": "f0be83f3",
   "metadata": {},
   "source": [
    "#### Does a combination of poor health habits increase the risk for heart disease more than just one  poor health habit?"
   ]
  },
  {
   "cell_type": "code",
   "execution_count": 217,
   "id": "15717806",
   "metadata": {},
   "outputs": [
    {
     "name": "stderr",
     "output_type": "stream",
     "text": [
      "C:\\Users\\codyk\\AppData\\Local\\Temp\\ipykernel_23832\\1436047906.py:4: SettingWithCopyWarning: \n",
      "A value is trying to be set on a copy of a slice from a DataFrame.\n",
      "Try using .loc[row_indexer,col_indexer] = value instead\n",
      "\n",
      "See the caveats in the documentation: https://pandas.pydata.org/pandas-docs/stable/user_guide/indexing.html#returning-a-view-versus-a-copy\n",
      "  poorHabitsDataFrame[column] = poorHabitsDataFrame[column].replace(\"Yes\", 1)\n",
      "C:\\Users\\codyk\\AppData\\Local\\Temp\\ipykernel_23832\\1436047906.py:5: SettingWithCopyWarning: \n",
      "A value is trying to be set on a copy of a slice from a DataFrame.\n",
      "Try using .loc[row_indexer,col_indexer] = value instead\n",
      "\n",
      "See the caveats in the documentation: https://pandas.pydata.org/pandas-docs/stable/user_guide/indexing.html#returning-a-view-versus-a-copy\n",
      "  poorHabitsDataFrame[column] = poorHabitsDataFrame[column].replace(\"No\", 0)\n",
      "C:\\Users\\codyk\\AppData\\Local\\Temp\\ipykernel_23832\\1436047906.py:7: SettingWithCopyWarning: \n",
      "A value is trying to be set on a copy of a slice from a DataFrame.\n",
      "Try using .loc[row_indexer,col_indexer] = value instead\n",
      "\n",
      "See the caveats in the documentation: https://pandas.pydata.org/pandas-docs/stable/user_guide/indexing.html#returning-a-view-versus-a-copy\n",
      "  poorHabitsDataFrame[\"PhysicalActivity\"] = poorHabitsDataFrame[\"PhysicalActivity\"].replace(\"Yes\", 0)\n",
      "C:\\Users\\codyk\\AppData\\Local\\Temp\\ipykernel_23832\\1436047906.py:8: SettingWithCopyWarning: \n",
      "A value is trying to be set on a copy of a slice from a DataFrame.\n",
      "Try using .loc[row_indexer,col_indexer] = value instead\n",
      "\n",
      "See the caveats in the documentation: https://pandas.pydata.org/pandas-docs/stable/user_guide/indexing.html#returning-a-view-versus-a-copy\n",
      "  poorHabitsDataFrame[\"PhysicalActivity\"] = poorHabitsDataFrame[\"PhysicalActivity\"].replace(\"No\", 1)\n",
      "C:\\Users\\codyk\\AppData\\Local\\Temp\\ipykernel_23832\\1436047906.py:10: SettingWithCopyWarning: \n",
      "A value is trying to be set on a copy of a slice from a DataFrame.\n",
      "Try using .loc[row_indexer,col_indexer] = value instead\n",
      "\n",
      "See the caveats in the documentation: https://pandas.pydata.org/pandas-docs/stable/user_guide/indexing.html#returning-a-view-versus-a-copy\n",
      "  poorHabitsDataFrame[\"PoorHabits\"] = poorHabitsDataFrame[\"Smoking\"]+poorHabitsDataFrame[\"AlcoholDrinking\"]+poorHabitsDataFrame[\"PhysicalActivity\"]\n"
     ]
    }
   ],
   "source": [
    "poorHabitsDataFrame = heartDataFrame[[\"HeartDisease\", \"Smoking\", \"AlcoholDrinking\", \"PhysicalActivity\"]]\n",
    "\n",
    "for column in [\"Smoking\", \"AlcoholDrinking\"]:\n",
    "    poorHabitsDataFrame[column] = poorHabitsDataFrame[column].replace(\"Yes\", 1)\n",
    "    poorHabitsDataFrame[column] = poorHabitsDataFrame[column].replace(\"No\", 0)\n",
    "    \n",
    "poorHabitsDataFrame[\"PhysicalActivity\"] = poorHabitsDataFrame[\"PhysicalActivity\"].replace(\"Yes\", 0)\n",
    "poorHabitsDataFrame[\"PhysicalActivity\"] = poorHabitsDataFrame[\"PhysicalActivity\"].replace(\"No\", 1)\n",
    "\n",
    "poorHabitsDataFrame[\"PoorHabits\"] = poorHabitsDataFrame[\"Smoking\"]+poorHabitsDataFrame[\"AlcoholDrinking\"]+poorHabitsDataFrame[\"PhysicalActivity\"]\n",
    "poorHabitsDataFrame = poorHabitsDataFrame[[\"HeartDisease\", \"PoorHabits\"]]\n",
    "\n",
    "totalDataFrame = pd.DataFrame(columns=[\"PoorHabitsCount\", \"Percentage\"])\n",
    "\n",
    "for response in [0, 1, 2, 3]:\n",
    "    currentDataFrame = poorHabitsDataFrame[newPoorHabitsDataFrame[\"PoorHabits\"] == response]\n",
    "\n",
    "    yesCount = len(currentDataFrame[currentDataFrame[\"HeartDisease\"] == \"Yes\"])\n",
    "    noCount = len(currentDataFrame[currentDataFrame[\"HeartDisease\"] == \"No\"])\n",
    "    totalCount = yesCount+noCount\n",
    "    percentageYes = yesCount/totalCount\n",
    "    \n",
    "    totalDataFrame.loc[len(totalDataFrame)] = [str(response), percentageYes]"
   ]
  },
  {
   "cell_type": "code",
   "execution_count": 218,
   "id": "0fcbe711",
   "metadata": {},
   "outputs": [
    {
     "data": {
      "text/html": [
       "<div>\n",
       "<style scoped>\n",
       "    .dataframe tbody tr th:only-of-type {\n",
       "        vertical-align: middle;\n",
       "    }\n",
       "\n",
       "    .dataframe tbody tr th {\n",
       "        vertical-align: top;\n",
       "    }\n",
       "\n",
       "    .dataframe thead th {\n",
       "        text-align: right;\n",
       "    }\n",
       "</style>\n",
       "<table border=\"1\" class=\"dataframe\">\n",
       "  <thead>\n",
       "    <tr style=\"text-align: right;\">\n",
       "      <th></th>\n",
       "      <th>PoorHabitsCount</th>\n",
       "      <th>Percentage</th>\n",
       "    </tr>\n",
       "  </thead>\n",
       "  <tbody>\n",
       "    <tr>\n",
       "      <th>0</th>\n",
       "      <td>0</td>\n",
       "      <td>0.051962</td>\n",
       "    </tr>\n",
       "    <tr>\n",
       "      <th>1</th>\n",
       "      <td>1</td>\n",
       "      <td>0.101774</td>\n",
       "    </tr>\n",
       "    <tr>\n",
       "      <th>2</th>\n",
       "      <td>2</td>\n",
       "      <td>0.147297</td>\n",
       "    </tr>\n",
       "    <tr>\n",
       "      <th>3</th>\n",
       "      <td>3</td>\n",
       "      <td>0.109515</td>\n",
       "    </tr>\n",
       "  </tbody>\n",
       "</table>\n",
       "</div>"
      ],
      "text/plain": [
       "  PoorHabitsCount  Percentage\n",
       "0               0    0.051962\n",
       "1               1    0.101774\n",
       "2               2    0.147297\n",
       "3               3    0.109515"
      ]
     },
     "execution_count": 218,
     "metadata": {},
     "output_type": "execute_result"
    }
   ],
   "source": [
    "totalDataFrame"
   ]
  },
  {
   "cell_type": "code",
   "execution_count": 219,
   "id": "fb83b4a7",
   "metadata": {},
   "outputs": [
    {
     "data": {
      "image/png": "[encoded data removed]",
      "text/plain": [
       "<Figure size 432x288 with 1 Axes>"
      ]
     },
     "metadata": {
      "needs_background": "light"
     },
     "output_type": "display_data"
    }
   ],
   "source": [
    "totalPlot = sns.barplot(data = totalDataFrame, x = \"PoorHabitsCount\", y = \"Percentage\", palette = [\"red\" if value == \"2\" else \"gray\" for value in totalDataFrame.PoorHabitsCount])\n",
    "\n",
    "totalPlot.set_xlabel(\"Poor Habits Count\")\n",
    "totalPlot.set_ylabel(\"Percentage affected with heart disease\")\n",
    "totalPlot.set_title(\"People who report themselves as having two traits out of smoking, alcohol, and\\nno physical activity have a higher chance of having heart disease than people\\nwith zero, one, or three of these traits\")\n",
    "totalPlot.yaxis.set_major_formatter(mtick.PercentFormatter(1, 0))"
   ]
  },
  {
   "cell_type": "markdown",
   "id": "20c18f77",
   "metadata": {},
   "source": [
    "#### Those with two poor health habits have a higher chance of having heart disease than any other group with over 14% of people in this group suffering from it."
   ]
  },
  {
   "cell_type": "markdown",
   "id": "457278c2",
   "metadata": {},
   "source": [
    "#### Which poor health habit has the worse effect on heart disease risk?"
   ]
  },
  {
   "cell_type": "code",
   "execution_count": 220,
   "id": "752da46a",
   "metadata": {},
   "outputs": [],
   "source": [
    "comparisonDataFrame = pd.DataFrame(columns=[\"PoorHabit\", \"Percentage\"])\n",
    "\n",
    "for habit in [\"Smoking\", \"AlcoholDrinking\", \"PhysicalActivity\"]:\n",
    "    currentDataFrame = heartDataFrame[heartDataFrame[habit] == \"Yes\"]\n",
    "\n",
    "    yesCount = len(currentDataFrame[currentDataFrame[\"HeartDisease\"] == \"Yes\"])\n",
    "    noCount = len(currentDataFrame[currentDataFrame[\"HeartDisease\"] == \"No\"])\n",
    "    totalCount = yesCount+noCount\n",
    "    percentageYes = yesCount/totalCount\n",
    "    \n",
    "    if habit == \"AlcoholDrinking\":\n",
    "        habit = \"Alcohol Drinking\"\n",
    "    \n",
    "    if habit == \"PhysicalActivity\":\n",
    "        habit = \"No Physical Activity\"\n",
    "    \n",
    "    comparisonDataFrame.loc[len(comparisonDataFrame)] = [habit, percentageYes]"
   ]
  },
  {
   "cell_type": "code",
   "execution_count": 221,
   "id": "83f286f3",
   "metadata": {},
   "outputs": [
    {
     "data": {
      "text/html": [
       "<div>\n",
       "<style scoped>\n",
       "    .dataframe tbody tr th:only-of-type {\n",
       "        vertical-align: middle;\n",
       "    }\n",
       "\n",
       "    .dataframe tbody tr th {\n",
       "        vertical-align: top;\n",
       "    }\n",
       "\n",
       "    .dataframe thead th {\n",
       "        text-align: right;\n",
       "    }\n",
       "</style>\n",
       "<table border=\"1\" class=\"dataframe\">\n",
       "  <thead>\n",
       "    <tr style=\"text-align: right;\">\n",
       "      <th></th>\n",
       "      <th>PoorHabit</th>\n",
       "      <th>Percentage</th>\n",
       "    </tr>\n",
       "  </thead>\n",
       "  <tbody>\n",
       "    <tr>\n",
       "      <th>0</th>\n",
       "      <td>Smoking</td>\n",
       "      <td>0.121577</td>\n",
       "    </tr>\n",
       "    <tr>\n",
       "      <th>1</th>\n",
       "      <td>Alcohol Drinking</td>\n",
       "      <td>0.052395</td>\n",
       "    </tr>\n",
       "    <tr>\n",
       "      <th>2</th>\n",
       "      <td>No Physical Activity</td>\n",
       "      <td>0.070532</td>\n",
       "    </tr>\n",
       "  </tbody>\n",
       "</table>\n",
       "</div>"
      ],
      "text/plain": [
       "              PoorHabit  Percentage\n",
       "0               Smoking    0.121577\n",
       "1      Alcohol Drinking    0.052395\n",
       "2  No Physical Activity    0.070532"
      ]
     },
     "execution_count": 221,
     "metadata": {},
     "output_type": "execute_result"
    }
   ],
   "source": [
    "comparisonDataFrame"
   ]
  },
  {
   "cell_type": "code",
   "execution_count": 222,
   "id": "995b18c3",
   "metadata": {},
   "outputs": [
    {
     "data": {
      "image/png": "[encoded data removed]",
      "text/plain": [
       "<Figure size 432x288 with 1 Axes>"
      ]
     },
     "metadata": {
      "needs_background": "light"
     },
     "output_type": "display_data"
    }
   ],
   "source": [
    "comparisonPlot = sns.barplot(data = comparisonDataFrame, x = \"PoorHabit\", y = \"Percentage\", palette = [\"red\" if value == \"Smoking\" else \"gray\" for value in comparisonDataFrame.PoorHabit])\n",
    "\n",
    "comparisonPlot.set_xlabel(\"Poor Habit\")\n",
    "comparisonPlot.set_ylabel(\"Percentage affected with heart disease\")\n",
    "comparisonPlot.set_title(\"Out of smoking, drinking alcohol, and having no physical activity, those\\nwho smoke have the greatest change of having heart disease\") \n",
    "comparisonPlot.yaxis.set_major_formatter(mtick.PercentFormatter(1, 0))"
   ]
  },
  {
   "cell_type": "markdown",
   "id": "48d4678d",
   "metadata": {},
   "source": [
    "#### People who smoke have a higher percentage of having heart disease than people who drink alcohol or people who have no physical activity."
   ]
  },
  {
   "cell_type": "markdown",
   "id": "180ec714",
   "metadata": {},
   "source": [
    "#### What BMIs are seen the most in people with heart disease?"
   ]
  },
  {
   "cell_type": "code",
   "execution_count": 223,
   "id": "cb3701cb",
   "metadata": {},
   "outputs": [
    {
     "data": {
      "text/plain": [
       "Text(0.5, 1.0, 'The median BMI of those with heart disease is only slightly higher\\nthan the median BMI of those without heart disease')"
      ]
     },
     "execution_count": 223,
     "metadata": {},
     "output_type": "execute_result"
    },
    {
     "data": {
      "image/png": "[encoded data removed]",
      "text/plain": [
       "<Figure size 432x288 with 1 Axes>"
      ]
     },
     "metadata": {
      "needs_background": "light"
     },
     "output_type": "display_data"
    }
   ],
   "source": [
    "BMIPlot = sns.boxplot(data = heartDataFrame, x = \"BMI\", y = \"HeartDisease\", palette = [\"red\", \"green\"], order = [\"Yes\", \"No\"], showfliers = False)\n",
    "\n",
    "BMIPlot.set_ylabel(\"Heart Disease\")\n",
    "BMIPlot.set_title(\"The median BMI of those with heart disease is only slightly higher\\nthan the median BMI of those without heart disease\")"
   ]
  },
  {
   "cell_type": "markdown",
   "id": "53650fe0",
   "metadata": {},
   "source": [
    "#### The range of BMIs of people with heart disease falls a few points above that of the range of BMIs of people without heart disease."
   ]
  },
  {
   "cell_type": "markdown",
   "id": "ffd24689",
   "metadata": {},
   "source": [
    "#### Dataset from https://www.kaggle.com/datasets/kamilpytlak/personal-key-indicators-of-heart-disease"
   ]
  }
 ],
 "metadata": {
  "kernelspec": {
   "display_name": "Python 3 (ipykernel)",
   "language": "python",
   "name": "python3"
  },
  "language_info": {
   "codemirror_mode": {
    "name": "ipython",
    "version": 3
   },
   "file_extension": ".py",
   "mimetype": "text/x-python",
   "name": "python",
   "nbconvert_exporter": "python",
   "pygments_lexer": "ipython3",
   "version": "3.9.12"
  }
 },
 "nbformat": 4,
 "nbformat_minor": 5
}
